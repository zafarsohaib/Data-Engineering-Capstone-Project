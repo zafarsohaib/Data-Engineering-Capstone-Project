{
 "cells": [
  {
   "cell_type": "markdown",
   "metadata": {
    "editable": true
   },
   "source": [
    "# Project Title\n",
    "### Data Engineering Capstone Project\n",
    "\n",
    "#### Project Summary\n",
    "--describe your project at a high level--\n",
    "\n",
    "The project follows the follow steps:\n",
    "* Step 1: Scope the Project and Gather Data\n",
    "* Step 2: Explore and Assess the Data\n",
    "* Step 3: Define the Data Model\n",
    "* Step 4: Run ETL to Model the Data\n",
    "* Step 5: Complete Project Write Up"
   ]
  },
  {
   "cell_type": "code",
   "execution_count": null,
   "metadata": {
    "editable": true
   },
   "outputs": [],
   "source": [
    "# Do all imports and installs here\n",
    "import pandas as pd"
   ]
  },
  {
   "cell_type": "markdown",
   "metadata": {
    "editable": true
   },
   "source": [
    "### Step 1: Scope the Project and Gather Data\n",
    "\n",
    "#### Scope \n",
    "Explain what you plan to do in the project in more detail. What data do you use? What is your end solution look like? What tools did you use? etc>\n",
    "\n",
    "#### Describe and Gather Data \n",
    "Describe the data sets you're using. Where did it come from? What type of information is included? "
   ]
  },
  {
   "cell_type": "markdown",
   "metadata": {
    "editable": true
   },
   "source": [
    "### Step 2: Explore and Assess the Data\n",
    "#### Explore the Data \n",
    "Identify data quality issues, like missing values, duplicate data, etc.\n",
    "\n",
    "#### Cleaning Steps\n",
    "Document steps necessary to clean the data"
   ]
  },
  {
   "cell_type": "markdown",
   "metadata": {
    "editable": true
   },
   "source": [
    "### 1. Immigration Data\n"
   ]
  },
  {
   "cell_type": "code",
   "execution_count": null,
   "metadata": {
    "editable": true
   },
   "outputs": [],
   "source": [
    "# Immigration Data\n",
    "immigration_fname = '../../data/18-83510-I94-Data-2016/i94_apr16_sub.sas7bdat'\n",
    "df_immigration = pd.read_sas(immigration_fname, 'sas7bdat', encoding=\"ISO-8859-1\")\n",
    "df_immigration.head()"
   ]
  },
  {
   "cell_type": "code",
   "execution_count": null,
   "metadata": {
    "editable": true
   },
   "outputs": [],
   "source": [
    "df_immigration.dtaddto.unique()"
   ]
  },
  {
   "cell_type": "code",
   "execution_count": null,
   "metadata": {
    "editable": true
   },
   "outputs": [],
   "source": [
    "df_immigration[[\"arrdate\", \"depdate\", \"dtadfile\", \"dtaddto\", \"entdepa\", \"entdepd\", \"entdepu\", \"matflag\"]]"
   ]
  },
  {
   "cell_type": "code",
   "execution_count": null,
   "metadata": {
    "editable": true
   },
   "outputs": [],
   "source": [
    "df_immigration.isnull().sum()"
   ]
  },
  {
   "cell_type": "markdown",
   "metadata": {
    "editable": true
   },
   "source": [
    "|  Column Name | Description  |\n",
    "|---|---|\n",
    "|   **cicid**       |  Unique Identifier for the Immigration Data |\n",
    "|   **i94yr**       |   Year |\n",
    "|   **i94mon**      |   Month |\n",
    "|   **i94cit**      |   City Code (Cirty of Origin)|\n",
    "|   **i94res**      |   Country Code (Country of Residence)|\n",
    "|   **i94port**     |   Port City of Entry into U.S.|\n",
    "|   **arrdate**     |   Arrival Date in US (SAS date format)|\n",
    "|   **i94mode**     |   Mode of transportation (1: Air, 2: Sea, 3: Land, 9: Not reported) |\n",
    "|   **i94addr**     |   State of Arrival|\n",
    "|   **depdate**     |   Departure Date from US |\n",
    "|   **i94bir**      |   Age of Respondent in Years |\n",
    "|   **i94visa**     |   Visa codes collapsed into three categories (1 = Business, 2 = Pleasure, 3 = Student)|\n",
    "|   **count**       |   Used for Summary Statistics |\n",
    "|   **dtadfile**    |   Character Date Field - Data of Arrival |\n",
    "|   **visapost**    |   Department of State where where Visa was issued |\n",
    "|   **occup**       |   Occupation that will be performed in U.S. |\n",
    "|   **entdepa**     |   Arrival Flag - admitted or paroled into the U.S. |\n",
    "|   **entdepd**     |   Departure Flag - Departed, lost I-94 or is deceased |\n",
    "|   **entdepu**     |   Update Flag - Either apprehended, overstayed, adjusted to perm residence |\n",
    "|   **matflag**     |   Match flag - Match of arrival and departure records |\n",
    "|   **biryear**     |   4 digit year of birth |\n",
    "|   **dtaddto**     |   Character Date Field - Date until which allowed to stay in U.S. |\n",
    "|   **gender**      |   Non-immigrant sex |\n",
    "|   **insnum**      |   INS number |\n",
    "|   **airline**     |   Airline used to arrive in U.S. |\n",
    "|   **admnum**      |   Admission Number |\n",
    "|   **fltno**       |    Flight number of Airline used to arrive in U.S. |\n",
    "|   **visatype**    |   Class of admission legally admitting the non-immigrant to temporarily stay in U.S. |"
   ]
  },
  {
   "cell_type": "markdown",
   "metadata": {
    "editable": true
   },
   "source": [
    "### 2. Temperature Data"
   ]
  },
  {
   "cell_type": "code",
   "execution_count": null,
   "metadata": {
    "editable": true
   },
   "outputs": [],
   "source": [
    "temperature_fname = '../../data2/GlobalLandTemperaturesByCity.csv'\n",
    "df_temperature = pd.read_csv(temperature_fname)\n",
    "df_temperature.head()"
   ]
  },
  {
   "cell_type": "code",
   "execution_count": null,
   "metadata": {
    "editable": true
   },
   "outputs": [],
   "source": [
    "df_temperature.isnull().sum()"
   ]
  },
  {
   "cell_type": "markdown",
   "metadata": {
    "editable": true
   },
   "source": [
    "|  Column Name | Description  |\n",
    "|---|---|\n",
    "|   **dt**       |  Date in 'YYYY-MM-DD' format |\n",
    "|   **AverageTemperature**       |   Average temperature in degrees |\n",
    "|   **AverageTemperatureUncertainty**      |   Average temperature uncertainity in degrees |\n",
    "|   **City**      |   City name |\n",
    "|   **Country**      |   Country name |\n",
    "|   **Latitude**      |   Latitude |\n",
    "|   **Longitude**      |   Longitude |"
   ]
  },
  {
   "cell_type": "markdown",
   "metadata": {
    "editable": true
   },
   "source": [
    "### 3. U.S. Cities Deographic Data"
   ]
  },
  {
   "cell_type": "code",
   "execution_count": null,
   "metadata": {
    "editable": true
   },
   "outputs": [],
   "source": [
    "df_cities = pd.read_csv(\"us-cities-demographics.csv\", delimiter=\";\")\n",
    "df_cities.head()"
   ]
  },
  {
   "cell_type": "code",
   "execution_count": null,
   "metadata": {
    "editable": true
   },
   "outputs": [],
   "source": [
    "df_cities.isnull().sum()"
   ]
  },
  {
   "cell_type": "markdown",
   "metadata": {
    "editable": true
   },
   "source": [
    "|  Column Name | Description  |\n",
    "|---|---|\n",
    "|   **City**      |   City name |\n",
    "|   **State**         |   U.S. State of city |\n",
    "|   **Median Age**      |   Median of the age of population |\n",
    "|   **Male Population** |   Size of male population |\n",
    "|   **Female Population**      |   Size of female population |\n",
    "|   **Total Population**      |   Size of total population |\n",
    "|   **Number of Veterans**      |   Number of Veterans in city |\n",
    "|   **Foreign-born**      |   Number of foreign-borns in city |\n",
    "|   **Average Household Size**      |   Average size of house-hold |\n",
    "|   **State Code**      |   Code of the state of city |\n",
    "|   **Race**      |   Majority race in the city |\n",
    "|   **Count**      |   Population of the majority race |"
   ]
  },
  {
   "cell_type": "markdown",
   "metadata": {
    "editable": true
   },
   "source": [
    "### 4. Airport Data"
   ]
  },
  {
   "cell_type": "code",
   "execution_count": null,
   "metadata": {
    "editable": true
   },
   "outputs": [],
   "source": [
    "df_airport = pd.read_csv(\"airport-codes_csv.csv\")\n",
    "df_airport.head()"
   ]
  },
  {
   "cell_type": "code",
   "execution_count": null,
   "metadata": {
    "editable": true
   },
   "outputs": [],
   "source": [
    "df_airport.info()"
   ]
  },
  {
   "cell_type": "markdown",
   "metadata": {
    "editable": true
   },
   "source": [
    "|  Column Name | Description  |\n",
    "|---|---|\n",
    "|   **ident**      |   Unique identifier |\n",
    "|   **type**         |   Type of the airport |\n",
    "|   **name**      |   Name of the airport |\n",
    "|   **elevation_ft** |   Altitude of the airport |\n",
    "|   **continent**      |   Continent of the airport |\n",
    "|   **iso_country**      |   ISO Code of the country of the airport |\n",
    "|   **iso_region**      |   ISO Code of the region of the airport |\n",
    "|   **municipality**      |   City of the airport |\n",
    "|   **gps_code**      |   GPS Code of the airport |\n",
    "|   **iata_code**      |   IATA Code of the airport |\n",
    "|   **local_code**      |   Local Code of the airport |\n",
    "|   **coordinates**      |   GPS coordinates of the airport |"
   ]
  },
  {
   "cell_type": "code",
   "execution_count": null,
   "metadata": {
    "editable": true
   },
   "outputs": [],
   "source": [
    "\t\n",
    "from pyspark.sql import SparkSession\n",
    "spark = SparkSession.builder.\\\n",
    "config(\"spark.jars.packages\",\"saurfang:spark-sas7bdat:2.0.0-s_2.11\")\\\n",
    ".enableHiveSupport().getOrCreate()\n",
    "df_spark =spark.read.format('com.github.saurfang.sas.spark').load('../../data/18-83510-I94-Data-2016/i94_apr16_sub.sas7bdat')\n"
   ]
  },
  {
   "cell_type": "code",
   "execution_count": null,
   "metadata": {
    "editable": true
   },
   "outputs": [],
   "source": [
    "#write to parquet\n",
    "#df_spark.write.parquet(\"sas_data\")\n",
    "df_spark=spark.read.parquet(\"udacity-capstone-project-outputs/state_demographics\")\n",
    "df_spark.show(n=5)"
   ]
  },
  {
   "cell_type": "code",
   "execution_count": null,
   "metadata": {
    "editable": true
   },
   "outputs": [],
   "source": [
    "df_spark.printSchema"
   ]
  },
  {
   "cell_type": "code",
   "execution_count": null,
   "metadata": {
    "editable": true
   },
   "outputs": [],
   "source": [
    "# Performing cleaning tasks here\n",
    "df_spark.createOrReplaceTempView(\"immigration_table\")\n",
    "\n",
    "\n"
   ]
  },
  {
   "cell_type": "code",
   "execution_count": null,
   "metadata": {
    "editable": true
   },
   "outputs": [],
   "source": [
    "df_spark.head()"
   ]
  },
  {
   "cell_type": "code",
   "execution_count": null,
   "metadata": {
    "editable": true
   },
   "outputs": [],
   "source": [
    "immigration_table = spark.sql(\"\"\" \n",
    "        select distinct cicid as ID, arrdate as ARR_DATE, depdate as DEP_DATE, \n",
    "        i94port as ARR_CITYCODE, i94addr as ARR_STATECODE, i94mode as ARR_MODE, fltno as ARR_FLIGHT, airline as ARR_AIRLINE, \n",
    "        biryear as RES_BIRTHYEAR, i94res as RES_COUNTRYCODE, gender as RES_GENDER, \n",
    "        dtaddto as VISA_EXPIRYDATE, visapost as VISA_ISSUESTATE, i94visa as VISA_CATEGORY, visatype as VISA_TYPE\n",
    "        from immigration_table    \n",
    "        \"\"\")"
   ]
  },
  {
   "cell_type": "code",
   "execution_count": null,
   "metadata": {
    "editable": true
   },
   "outputs": [],
   "source": [
    "immigration_table.show(n=5)"
   ]
  },
  {
   "cell_type": "markdown",
   "metadata": {
    "editable": true
   },
   "source": [
    "### Step 3: Define the Data Model\n",
    "#### 3.1 Conceptual Data Model\n",
    "Map out the conceptual data model and explain why you chose that model\n",
    "\n",
    "#### 3.2 Mapping Out Data Pipelines\n",
    "List the steps necessary to pipeline the data into the chosen data model"
   ]
  },
  {
   "cell_type": "code",
   "execution_count": 1,
   "metadata": {
    "editable": true
   },
   "outputs": [],
   "source": [
    "from etl.etl import create_spark_session, etl_immigration, etl_temperature_by_country, etl_state_demographics"
   ]
  },
  {
   "cell_type": "code",
   "execution_count": 2,
   "metadata": {
    "editable": true
   },
   "outputs": [],
   "source": [
    "spark = create_spark_session()"
   ]
  },
  {
   "cell_type": "code",
   "execution_count": null,
   "metadata": {
    "editable": true
   },
   "outputs": [],
   "source": [
    "etl_immigration(spark)"
   ]
  },
  {
   "cell_type": "code",
   "execution_count": 3,
   "metadata": {
    "editable": true
   },
   "outputs": [],
   "source": [
    "etl_temperature_by_country(spark)"
   ]
  },
  {
   "cell_type": "code",
   "execution_count": null,
   "metadata": {
    "editable": true
   },
   "outputs": [],
   "source": [
    "etl_state_demographics(spark)"
   ]
  },
  {
   "cell_type": "markdown",
   "metadata": {
    "editable": true
   },
   "source": [
    "### Step 4: Run Pipelines to Model the Data \n",
    "#### 4.1 Create the data model\n",
    "Build the data pipelines to create the data model."
   ]
  },
  {
   "cell_type": "code",
   "execution_count": null,
   "metadata": {
    "editable": true
   },
   "outputs": [],
   "source": []
  },
  {
   "cell_type": "code",
   "execution_count": null,
   "metadata": {
    "editable": true
   },
   "outputs": [],
   "source": [
    "# Write code here"
   ]
  },
  {
   "cell_type": "markdown",
   "metadata": {
    "editable": true
   },
   "source": [
    "#### 4.2 Data Quality Checks\n",
    "Explain the data quality checks you'll perform to ensure the pipeline ran as expected. These could include:\n",
    " * Integrity constraints on the relational database (e.g., unique key, data type, etc.)\n",
    " * Unit tests for the scripts to ensure they are doing the right thing\n",
    " * Source/Count checks to ensure completeness\n",
    " \n",
    "Run Quality Checks"
   ]
  },
  {
   "cell_type": "code",
   "execution_count": null,
   "metadata": {
    "editable": true
   },
   "outputs": [],
   "source": [
    "# Perform quality checks here"
   ]
  },
  {
   "cell_type": "markdown",
   "metadata": {
    "editable": true
   },
   "source": [
    "#### 4.3 Data dictionary \n",
    "Create a data dictionary for your data model. For each field, provide a brief description of what the data is and where it came from. You can include the data dictionary in the notebook or in a separate file."
   ]
  },
  {
   "cell_type": "markdown",
   "metadata": {
    "editable": true
   },
   "source": [
    "#### Step 5: Complete Project Write Up\n",
    "* Clearly state the rationale for the choice of tools and technologies for the project.\n",
    "* Propose how often the data should be updated and why.\n",
    "* Write a description of how you would approach the problem differently under the following scenarios:\n",
    " * The data was increased by 100x.\n",
    " * The data populates a dashboard that must be updated on a daily basis by 7am every day.\n",
    " * The database needed to be accessed by 100+ people."
   ]
  },
  {
   "cell_type": "code",
   "execution_count": null,
   "metadata": {
    "editable": true
   },
   "outputs": [],
   "source": []
  },
  {
   "cell_type": "code",
   "execution_count": null,
   "metadata": {
    "editable": true
   },
   "outputs": [],
   "source": []
  },
  {
   "cell_type": "code",
   "execution_count": null,
   "metadata": {
    "editable": true
   },
   "outputs": [],
   "source": []
  },
  {
   "cell_type": "code",
   "execution_count": null,
   "metadata": {
    "editable": true
   },
   "outputs": [],
   "source": []
  },
  {
   "cell_type": "code",
   "execution_count": null,
   "metadata": {
    "editable": true
   },
   "outputs": [],
   "source": []
  },
  {
   "cell_type": "code",
   "execution_count": null,
   "metadata": {
    "editable": true
   },
   "outputs": [],
   "source": []
  }
 ],
 "metadata": {
  "kernelspec": {
   "display_name": "Python 3",
   "language": "python",
   "name": "python3"
  },
  "language_info": {
   "codemirror_mode": {
    "name": "ipython",
    "version": 3
   },
   "file_extension": ".py",
   "mimetype": "text/x-python",
   "name": "python",
   "nbconvert_exporter": "python",
   "pygments_lexer": "ipython3",
   "version": "3.6.3"
  }
 },
 "nbformat": 4,
 "nbformat_minor": 4
}
